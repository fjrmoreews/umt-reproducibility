{
 "cells": [
  {
   "cell_type": "code",
   "execution_count": 10,
   "metadata": {
    "collapsed": false
   },
   "outputs": [
    {
     "name": "stdout",
     "output_type": "stream",
     "text": [
      "[1] \"no need to install   ggplot2\"\n",
      "[1] \"no need to install   pastecs\"\n",
      "[1] \"no need to install   sjmisc\"\n"
     ]
    }
   ],
   "source": [
    " \n",
    "packages = c(\"ggplot2\", \"pastecs\",\"sjmisc\")\n",
    "\n",
    "package.check <- lapply(\n",
    "  packages,\n",
    "  FUN = function(x) {\n",
    "    if (!require(x, character.only = TRUE)) {\n",
    "      #install.packages(x, dependencies = TRUE)\n",
    "      print(paste(\"NEED to install  \",x))\n",
    "      library(x, character.only = TRUE)\n",
    "    }else{\n",
    "       print(paste(\"no need to install  \",x))\n",
    " \n",
    "    }\n",
    "  }\n",
    ")"
   ]
  },
  {
   "cell_type": "code",
   "execution_count": 11,
   "metadata": {
    "collapsed": false
   },
   "outputs": [],
   "source": [
    "\n",
    "#write.table(iris,\"iris.csv\",row.names=F,col.names=F,quote=F,fileEncoding=\"UTF-8\")\n",
    "read.table(\"pig-ds1.csv\",encoding=\"UTF-8\")->ds1\n",
    "names(ds1) <- c('colorimetry.score',  'enz.activity','fat.indice','m.quality', 'species' )\n",
    "#names(ds1) <- c('Sepal.Length','Sepal.Width','Petal.Length','Petal.Width','Species')\n",
    "#ds1[, paste('Here', 'my', 'column', 'name', sep = '_')] <- 'foo'"
   ]
  },
  {
   "cell_type": "code",
   "execution_count": 12,
   "metadata": {
    "collapsed": false,
    "scrolled": true
   },
   "outputs": [
    {
     "data": {
      "text/html": [
       "<table>\n",
       "<thead><tr><th scope=col>colorimetry.score</th><th scope=col>enz.activity</th><th scope=col>fat.indice</th><th scope=col>m.quality</th><th scope=col>species</th></tr></thead>\n",
       "<tbody>\n",
       "\t<tr><td>5.1   </td><td>3.5   </td><td>1.4   </td><td>0.2   </td><td>basque</td></tr>\n",
       "\t<tr><td>4.9   </td><td>3.0   </td><td>1.4   </td><td>0.2   </td><td>basque</td></tr>\n",
       "\t<tr><td>4.7   </td><td>3.2   </td><td>1.3   </td><td>0.2   </td><td>basque</td></tr>\n",
       "\t<tr><td>4.6   </td><td>3.1   </td><td>1.5   </td><td>0.2   </td><td>basque</td></tr>\n",
       "\t<tr><td>5.0   </td><td>3.6   </td><td>1.4   </td><td>0.2   </td><td>basque</td></tr>\n",
       "\t<tr><td>5.4   </td><td>3.9   </td><td>1.7   </td><td>0.4   </td><td>basque</td></tr>\n",
       "</tbody>\n",
       "</table>\n"
      ],
      "text/latex": [
       "\\begin{tabular}{r|lllll}\n",
       " colorimetry.score & enz.activity & fat.indice & m.quality & species\\\\\n",
       "\\hline\n",
       "\t 5.1    & 3.5    & 1.4    & 0.2    & basque\\\\\n",
       "\t 4.9    & 3.0    & 1.4    & 0.2    & basque\\\\\n",
       "\t 4.7    & 3.2    & 1.3    & 0.2    & basque\\\\\n",
       "\t 4.6    & 3.1    & 1.5    & 0.2    & basque\\\\\n",
       "\t 5.0    & 3.6    & 1.4    & 0.2    & basque\\\\\n",
       "\t 5.4    & 3.9    & 1.7    & 0.4    & basque\\\\\n",
       "\\end{tabular}\n"
      ],
      "text/markdown": [
       "\n",
       "colorimetry.score | enz.activity | fat.indice | m.quality | species | \n",
       "|---|---|---|---|---|---|\n",
       "| 5.1    | 3.5    | 1.4    | 0.2    | basque | \n",
       "| 4.9    | 3.0    | 1.4    | 0.2    | basque | \n",
       "| 4.7    | 3.2    | 1.3    | 0.2    | basque | \n",
       "| 4.6    | 3.1    | 1.5    | 0.2    | basque | \n",
       "| 5.0    | 3.6    | 1.4    | 0.2    | basque | \n",
       "| 5.4    | 3.9    | 1.7    | 0.4    | basque | \n",
       "\n",
       "\n"
      ],
      "text/plain": [
       "  colorimetry.score enz.activity fat.indice m.quality species\n",
       "1 5.1               3.5          1.4        0.2       basque \n",
       "2 4.9               3.0          1.4        0.2       basque \n",
       "3 4.7               3.2          1.3        0.2       basque \n",
       "4 4.6               3.1          1.5        0.2       basque \n",
       "5 5.0               3.6          1.4        0.2       basque \n",
       "6 5.4               3.9          1.7        0.4       basque "
      ]
     },
     "metadata": {},
     "output_type": "display_data"
    }
   ],
   "source": [
    "head(ds1)"
   ]
  },
  {
   "cell_type": "code",
   "execution_count": 13,
   "metadata": {
    "collapsed": false
   },
   "outputs": [
    {
     "data": {
      "text/html": [
       "<table>\n",
       "<thead><tr><th scope=col>colorimetry.score</th><th scope=col>enz.activity</th><th scope=col>fat.indice</th><th scope=col>m.quality</th><th scope=col>species</th></tr></thead>\n",
       "<tbody>\n",
       "\t<tr><td>5.1   </td><td>3.5   </td><td>1.4   </td><td>0.2   </td><td>basque</td></tr>\n",
       "\t<tr><td>4.9   </td><td>3.0   </td><td>1.4   </td><td>0.2   </td><td>basque</td></tr>\n",
       "\t<tr><td>4.7   </td><td>3.2   </td><td>1.3   </td><td>0.2   </td><td>basque</td></tr>\n",
       "\t<tr><td>4.6   </td><td>3.1   </td><td>1.5   </td><td>0.2   </td><td>basque</td></tr>\n",
       "\t<tr><td>5.0   </td><td>3.6   </td><td>1.4   </td><td>0.2   </td><td>basque</td></tr>\n",
       "\t<tr><td>5.4   </td><td>3.9   </td><td>1.7   </td><td>0.4   </td><td>basque</td></tr>\n",
       "</tbody>\n",
       "</table>\n"
      ],
      "text/latex": [
       "\\begin{tabular}{r|lllll}\n",
       " colorimetry.score & enz.activity & fat.indice & m.quality & species\\\\\n",
       "\\hline\n",
       "\t 5.1    & 3.5    & 1.4    & 0.2    & basque\\\\\n",
       "\t 4.9    & 3.0    & 1.4    & 0.2    & basque\\\\\n",
       "\t 4.7    & 3.2    & 1.3    & 0.2    & basque\\\\\n",
       "\t 4.6    & 3.1    & 1.5    & 0.2    & basque\\\\\n",
       "\t 5.0    & 3.6    & 1.4    & 0.2    & basque\\\\\n",
       "\t 5.4    & 3.9    & 1.7    & 0.4    & basque\\\\\n",
       "\\end{tabular}\n"
      ],
      "text/markdown": [
       "\n",
       "colorimetry.score | enz.activity | fat.indice | m.quality | species | \n",
       "|---|---|---|---|---|---|\n",
       "| 5.1    | 3.5    | 1.4    | 0.2    | basque | \n",
       "| 4.9    | 3.0    | 1.4    | 0.2    | basque | \n",
       "| 4.7    | 3.2    | 1.3    | 0.2    | basque | \n",
       "| 4.6    | 3.1    | 1.5    | 0.2    | basque | \n",
       "| 5.0    | 3.6    | 1.4    | 0.2    | basque | \n",
       "| 5.4    | 3.9    | 1.7    | 0.4    | basque | \n",
       "\n",
       "\n"
      ],
      "text/plain": [
       "  colorimetry.score enz.activity fat.indice m.quality species\n",
       "1 5.1               3.5          1.4        0.2       basque \n",
       "2 4.9               3.0          1.4        0.2       basque \n",
       "3 4.7               3.2          1.3        0.2       basque \n",
       "4 4.6               3.1          1.5        0.2       basque \n",
       "5 5.0               3.6          1.4        0.2       basque \n",
       "6 5.4               3.9          1.7        0.4       basque "
      ]
     },
     "metadata": {},
     "output_type": "display_data"
    },
    {
     "data": {
      "text/html": [
       "<table>\n",
       "<thead><tr><th></th><th scope=col>colorimetry.score</th><th scope=col>enz.activity</th><th scope=col>fat.indice</th><th scope=col>m.quality</th><th scope=col>species</th></tr></thead>\n",
       "<tbody>\n",
       "\t<tr><th scope=row>nbr.val</th><td>151.00000000</td><td>151.00000000</td><td>151.0000000 </td><td>151.00000000</td><td>NA          </td></tr>\n",
       "\t<tr><th scope=row>nbr.null</th><td>  0.00000000</td><td>  0.00000000</td><td>  0.0000000 </td><td>  0.00000000</td><td>NA          </td></tr>\n",
       "\t<tr><th scope=row>nbr.na</th><td>  0.00000000</td><td>  0.00000000</td><td>  0.0000000 </td><td>  0.00000000</td><td>NA          </td></tr>\n",
       "\t<tr><th scope=row>min</th><td>  4.30000000</td><td>  2.00000000</td><td>  1.0000000 </td><td>  0.10000000</td><td>NA          </td></tr>\n",
       "\t<tr><th scope=row>max</th><td>  7.90000000</td><td>  4.40000000</td><td>  6.9000000 </td><td>  2.50000000</td><td>NA          </td></tr>\n",
       "\t<tr><th scope=row>range</th><td>  3.60000000</td><td>  2.40000000</td><td>  5.9000000 </td><td>  2.40000000</td><td>NA          </td></tr>\n",
       "\t<tr><th scope=row>sum</th><td>882.80000000</td><td>461.90000000</td><td>569.1000000 </td><td>182.10000000</td><td>NA          </td></tr>\n",
       "\t<tr><th scope=row>median</th><td>  5.80000000</td><td>  3.00000000</td><td>  4.4000000 </td><td>  1.30000000</td><td>NA          </td></tr>\n",
       "\t<tr><th scope=row>mean</th><td>  5.84635762</td><td>  3.05894040</td><td>  3.7688742 </td><td>  1.20596026</td><td>NA          </td></tr>\n",
       "\t<tr><th scope=row>SE.mean</th><td>  0.06723012</td><td>  0.03538837</td><td>  0.1435906 </td><td>  0.06217707</td><td>NA          </td></tr>\n",
       "\t<tr><th scope=row>CI.mean.0.95</th><td>  0.13284036</td><td>  0.06992407</td><td>  0.2837215 </td><td>  0.12285601</td><td>NA          </td></tr>\n",
       "\t<tr><th scope=row>var</th><td>  0.68250331</td><td>  0.18910287</td><td>  3.1133581 </td><td>  0.58376424</td><td>NA          </td></tr>\n",
       "\t<tr><th scope=row>std.dev</th><td>  0.82613759</td><td>  0.43485960</td><td>  1.7644710 </td><td>  0.76404466</td><td>NA          </td></tr>\n",
       "\t<tr><th scope=row>coef.var</th><td>  0.14130808</td><td>  0.14216021</td><td>  0.4681693 </td><td>  0.63355707</td><td>NA          </td></tr>\n",
       "</tbody>\n",
       "</table>\n"
      ],
      "text/latex": [
       "\\begin{tabular}{r|lllll}\n",
       "  & colorimetry.score & enz.activity & fat.indice & m.quality & species\\\\\n",
       "\\hline\n",
       "\tnbr.val & 151.00000000 & 151.00000000 & 151.0000000  & 151.00000000 & NA          \\\\\n",
       "\tnbr.null &   0.00000000 &   0.00000000 &   0.0000000  &   0.00000000 & NA          \\\\\n",
       "\tnbr.na &   0.00000000 &   0.00000000 &   0.0000000  &   0.00000000 & NA          \\\\\n",
       "\tmin &   4.30000000 &   2.00000000 &   1.0000000  &   0.10000000 & NA          \\\\\n",
       "\tmax &   7.90000000 &   4.40000000 &   6.9000000  &   2.50000000 & NA          \\\\\n",
       "\trange &   3.60000000 &   2.40000000 &   5.9000000  &   2.40000000 & NA          \\\\\n",
       "\tsum & 882.80000000 & 461.90000000 & 569.1000000  & 182.10000000 & NA          \\\\\n",
       "\tmedian &   5.80000000 &   3.00000000 &   4.4000000  &   1.30000000 & NA          \\\\\n",
       "\tmean &   5.84635762 &   3.05894040 &   3.7688742  &   1.20596026 & NA          \\\\\n",
       "\tSE.mean &   0.06723012 &   0.03538837 &   0.1435906  &   0.06217707 & NA          \\\\\n",
       "\tCI.mean.0.95 &   0.13284036 &   0.06992407 &   0.2837215  &   0.12285601 & NA          \\\\\n",
       "\tvar &   0.68250331 &   0.18910287 &   3.1133581  &   0.58376424 & NA          \\\\\n",
       "\tstd.dev &   0.82613759 &   0.43485960 &   1.7644710  &   0.76404466 & NA          \\\\\n",
       "\tcoef.var &   0.14130808 &   0.14216021 &   0.4681693  &   0.63355707 & NA          \\\\\n",
       "\\end{tabular}\n"
      ],
      "text/markdown": [
       "\n",
       "| <!--/--> | colorimetry.score | enz.activity | fat.indice | m.quality | species | \n",
       "|---|---|---|---|---|---|---|---|---|---|---|---|---|---|\n",
       "| nbr.val | 151.00000000 | 151.00000000 | 151.0000000  | 151.00000000 | NA           | \n",
       "| nbr.null |   0.00000000 |   0.00000000 |   0.0000000  |   0.00000000 | NA           | \n",
       "| nbr.na |   0.00000000 |   0.00000000 |   0.0000000  |   0.00000000 | NA           | \n",
       "| min |   4.30000000 |   2.00000000 |   1.0000000  |   0.10000000 | NA           | \n",
       "| max |   7.90000000 |   4.40000000 |   6.9000000  |   2.50000000 | NA           | \n",
       "| range |   3.60000000 |   2.40000000 |   5.9000000  |   2.40000000 | NA           | \n",
       "| sum | 882.80000000 | 461.90000000 | 569.1000000  | 182.10000000 | NA           | \n",
       "| median |   5.80000000 |   3.00000000 |   4.4000000  |   1.30000000 | NA           | \n",
       "| mean |   5.84635762 |   3.05894040 |   3.7688742  |   1.20596026 | NA           | \n",
       "| SE.mean |   0.06723012 |   0.03538837 |   0.1435906  |   0.06217707 | NA           | \n",
       "| CI.mean.0.95 |   0.13284036 |   0.06992407 |   0.2837215  |   0.12285601 | NA           | \n",
       "| var |   0.68250331 |   0.18910287 |   3.1133581  |   0.58376424 | NA           | \n",
       "| std.dev |   0.82613759 |   0.43485960 |   1.7644710  |   0.76404466 | NA           | \n",
       "| coef.var |   0.14130808 |   0.14216021 |   0.4681693  |   0.63355707 | NA           | \n",
       "\n",
       "\n"
      ],
      "text/plain": [
       "             colorimetry.score enz.activity fat.indice  m.quality    species\n",
       "nbr.val      151.00000000      151.00000000 151.0000000 151.00000000 NA     \n",
       "nbr.null       0.00000000        0.00000000   0.0000000   0.00000000 NA     \n",
       "nbr.na         0.00000000        0.00000000   0.0000000   0.00000000 NA     \n",
       "min            4.30000000        2.00000000   1.0000000   0.10000000 NA     \n",
       "max            7.90000000        4.40000000   6.9000000   2.50000000 NA     \n",
       "range          3.60000000        2.40000000   5.9000000   2.40000000 NA     \n",
       "sum          882.80000000      461.90000000 569.1000000 182.10000000 NA     \n",
       "median         5.80000000        3.00000000   4.4000000   1.30000000 NA     \n",
       "mean           5.84635762        3.05894040   3.7688742   1.20596026 NA     \n",
       "SE.mean        0.06723012        0.03538837   0.1435906   0.06217707 NA     \n",
       "CI.mean.0.95   0.13284036        0.06992407   0.2837215   0.12285601 NA     \n",
       "var            0.68250331        0.18910287   3.1133581   0.58376424 NA     \n",
       "std.dev        0.82613759        0.43485960   1.7644710   0.76404466 NA     \n",
       "coef.var       0.14130808        0.14216021   0.4681693   0.63355707 NA     "
      ]
     },
     "metadata": {},
     "output_type": "display_data"
    }
   ],
   "source": [
    " \n",
    "head(ds1)\n",
    "ds1[] <- lapply(ds1, function(x) if(is.integer(x)) as.numeric(x) else x)\n",
    "ds1[] <- lapply(ds1, function(x) if(is_empty(trim(x))) 'NA' else x)\n",
    "\n",
    " \n",
    "\n",
    "summary_ds1 <- stat.desc(ds1)\n",
    "summary_ds1\n",
    " "
   ]
  },
  {
   "cell_type": "code",
   "execution_count": 14,
   "metadata": {
    "collapsed": false
   },
   "outputs": [
    {
     "data": {},
     "metadata": {},
     "output_type": "display_data"
    },
    {
     "data": {
      "image/png": "[encoded data removed]",
      "text/plain": [
       "plot without title"
      ]
     },
     "metadata": {},
     "output_type": "display_data"
    }
   ],
   "source": [
    "ggplot(ds1, aes(fat.indice,m.quality, col=species)) + geom_point() + ggtitle(\" pig scatter plot\")\n"
   ]
  },
  {
   "cell_type": "code",
   "execution_count": null,
   "metadata": {
    "collapsed": true
   },
   "outputs": [],
   "source": []
  }
 ],
 "metadata": {
  "kernelspec": {
   "display_name": "R",
   "language": "R",
   "name": "ir"
  },
  "language_info": {
   "codemirror_mode": "r",
   "file_extension": ".r",
   "mimetype": "text/x-r-source",
   "name": "R",
   "pygments_lexer": "r",
   "version": "3.4.1"
  }
 },
 "nbformat": 4,
 "nbformat_minor": 0
}
