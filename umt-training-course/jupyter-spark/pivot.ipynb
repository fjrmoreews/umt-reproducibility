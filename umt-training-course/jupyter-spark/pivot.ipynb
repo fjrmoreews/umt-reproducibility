{
 "cells": [
  {
   "cell_type": "code",
   "execution_count": 4,
   "id": "507bb680",
   "metadata": {},
   "outputs": [
    {
     "name": "stdout",
     "output_type": "stream",
     "text": [
      "root\n",
      " |-- nutriment: string (nullable = true)\n",
      " |-- amount: long (nullable = true)\n",
      " |-- study: string (nullable = true)\n",
      "\n",
      "+------------+------+------+\n",
      "|nutriment   |amount|study |\n",
      "+------------+------+------+\n",
      "|Fat         |1000  |Study1|\n",
      "|Carbohydrate|1500  |Study1|\n",
      "|Beans       |1600  |Study1|\n",
      "|Protein     |2000  |Study1|\n",
      "|Protein     |2000  |Study1|\n",
      "|Fat         |400   |Study2|\n",
      "|Carbohydrate|1200  |Study2|\n",
      "|Minerals    |1500  |Study2|\n",
      "|Protein     |4000  |Study2|\n",
      "|Fat         |2000  |Study3|\n",
      "|Carbohydrate|2000  |Study3|\n",
      "|Beans       |2000  |Study4|\n",
      "+------------+------+------+\n",
      "\n"
     ]
    }
   ],
   "source": [
    "\n",
    "import pyspark\n",
    "from pyspark.sql import SparkSession\n",
    "from pyspark.sql.functions import expr\n",
    "spark = SparkSession.builder.appName('pivot').getOrCreate()\n",
    "\n",
    "data = [(\"Fat\",1000,\"Study1\"), (\"Carbohydrate\",1500,\"Study1\"), (\"Beans\",1600,\"Study1\"), \\\n",
    "      (\"Protein\",2000,\"Study1\"),(\"Protein\",2000,\"Study1\"),(\"Fat\",400,\"Study2\"), \\\n",
    "      (\"Carbohydrate\",1200,\"Study2\"),(\"Minerals\",1500,\"Study2\"),(\"Protein\",4000,\"Study2\"), \\\n",
    "      (\"Fat\",2000,\"Study3\"),(\"Carbohydrate\",2000,\"Study3\"),(\"Beans\",2000,\"Study4\")]\n",
    "\n",
    "columns= [\"nutriment\",\"amount\",\"study\"]\n",
    "df = spark.createDataFrame(data = data, schema = columns)\n",
    "df.printSchema()\n",
    "df.show(truncate=False)\n"
   ]
  },
  {
   "cell_type": "code",
   "execution_count": 5,
   "id": "7fdc11a3",
   "metadata": {},
   "outputs": [
    {
     "name": "stdout",
     "output_type": "stream",
     "text": [
      "root\n",
      " |-- nutriment: string (nullable = true)\n",
      " |-- Study1: long (nullable = true)\n",
      " |-- Study2: long (nullable = true)\n",
      " |-- Study3: long (nullable = true)\n",
      " |-- Study4: long (nullable = true)\n",
      "\n",
      "+------------+------+------+------+------+\n",
      "|nutriment   |Study1|Study2|Study3|Study4|\n",
      "+------------+------+------+------+------+\n",
      "|Beans       |1600  |null  |null  |2000  |\n",
      "|Carbohydrate|1500  |1200  |2000  |null  |\n",
      "|Fat         |1000  |400   |2000  |null  |\n",
      "|Protein     |4000  |4000  |null  |null  |\n",
      "|Minerals    |null  |1500  |null  |null  |\n",
      "+------------+------+------+------+------+\n",
      "\n",
      "root\n",
      " |-- nutriment: string (nullable = true)\n",
      " |-- Study1: long (nullable = true)\n",
      " |-- Study2: long (nullable = true)\n",
      " |-- Study3: long (nullable = true)\n",
      " |-- Study4: long (nullable = true)\n",
      "\n",
      "+------------+------+------+------+------+\n",
      "|nutriment   |Study1|Study2|Study3|Study4|\n",
      "+------------+------+------+------+------+\n",
      "|Beans       |1600  |null  |null  |2000  |\n",
      "|Carbohydrate|1500  |1200  |2000  |null  |\n",
      "|Fat         |1000  |400   |2000  |null  |\n",
      "|Protein     |4000  |4000  |null  |null  |\n",
      "|Minerals    |null  |1500  |null  |null  |\n",
      "+------------+------+------+------+------+\n",
      "\n"
     ]
    }
   ],
   "source": [
    "\n",
    "pivotDF = df.groupBy(\"nutriment\").pivot(\"study\").sum(\"amount\")\n",
    "pivotDF.printSchema()\n",
    "pivotDF.show(truncate=False)\n",
    "\n",
    "pivotDF = df.groupBy(\"nutriment\",\"study\") \\\n",
    "      .sum(\"amount\") \\\n",
    "      .groupBy(\"nutriment\") \\\n",
    "      .pivot(\"study\") \\\n",
    "      .sum(\"sum(amount)\")\n",
    "pivotDF.printSchema()\n",
    "pivotDF.show(truncate=False)\n"
   ]
  },
  {
   "cell_type": "code",
   "execution_count": 6,
   "id": "66845cae",
   "metadata": {},
   "outputs": [
    {
     "name": "stdout",
     "output_type": "stream",
     "text": [
      "+------------+-------+-----+\n",
      "|nutriment   |studies|Total|\n",
      "+------------+-------+-----+\n",
      "|Beans       |Study4 |2000 |\n",
      "|Carbohydrate|Study3 |2000 |\n",
      "|Carbohydrate|Study2 |1200 |\n",
      "|Fat         |Study3 |2000 |\n",
      "|Fat         |Study2 |400  |\n",
      "|Protein     |Study2 |4000 |\n",
      "|Minerals    |Study2 |1500 |\n",
      "+------------+-------+-----+\n",
      "\n"
     ]
    }
   ],
   "source": [
    "\n",
    "\n",
    "\"\"\" unpivot \"\"\"\n",
    "\"\"\" unpivot \"\"\"\n",
    "unpivotExpr = \"stack(3, 'Study4', Study4, 'Study3', Study3, 'Study2', Study2) as (study,total)\"\n",
    "unPivotDF = pivotDF.select(\"nutriment\", expr(unpivotExpr)) \\\n",
    "    .where(\"Total is not null\")\n",
    "unPivotDF.show(truncate=False)"
   ]
  },
  {
   "cell_type": "code",
   "execution_count": null,
   "id": "1e8c67eb",
   "metadata": {},
   "outputs": [],
   "source": []
  }
 ],
 "metadata": {
  "kernelspec": {
   "display_name": "Python 3",
   "language": "python",
   "name": "python3"
  },
  "language_info": {
   "codemirror_mode": {
    "name": "ipython",
    "version": 3
   },
   "file_extension": ".py",
   "mimetype": "text/x-python",
   "name": "python",
   "nbconvert_exporter": "python",
   "pygments_lexer": "ipython3",
   "version": "3.9.4"
  }
 },
 "nbformat": 4,
 "nbformat_minor": 5
}
