{
 "cells": [
  {
   "cell_type": "code",
   "execution_count": 1,
   "id": "28909040",
   "metadata": {},
   "outputs": [
    {
     "data": {
      "text/plain": [
       "[123, 649, 59, 553, 322]"
      ]
     },
     "execution_count": 1,
     "metadata": {},
     "output_type": "execute_result"
    }
   ],
   "source": [
    "import pyspark \n",
    "sc = pyspark.SparkContext('local[*]')# do something to prove it works\n",
    "rdd = sc.parallelize(range(1000))\n",
    "rdd.takeSample(False, 5)"
   ]
  },
  {
   "cell_type": "code",
   "execution_count": 2,
   "id": "acec3e4b",
   "metadata": {},
   "outputs": [
    {
     "name": "stdout",
     "output_type": "stream",
     "text": [
      "root\n",
      " |-- _c0: string (nullable = true)\n",
      " |-- _c1: string (nullable = true)\n",
      " |-- _c2: string (nullable = true)\n",
      " |-- _c3: string (nullable = true)\n",
      " |-- _c4: string (nullable = true)\n",
      " |-- _c5: string (nullable = true)\n",
      " |-- _c6: string (nullable = true)\n",
      "\n",
      "root\n",
      " |-- animal_id: string (nullable = true)\n",
      " |-- group: string (nullable = true)\n",
      " |-- sex: string (nullable = true)\n",
      " |-- building: string (nullable = true)\n",
      " |-- diet: string (nullable = true)\n",
      " |-- weight: string (nullable = true)\n",
      " |-- activity_score: string (nullable = true)\n",
      "\n",
      "root\n",
      " |-- animal_id: string (nullable = true)\n",
      " |-- group: string (nullable = true)\n",
      " |-- sex: string (nullable = true)\n",
      " |-- building: string (nullable = true)\n",
      " |-- diet: string (nullable = true)\n",
      " |-- weight: string (nullable = true)\n",
      " |-- activity_score: string (nullable = true)\n",
      "\n",
      "root\n",
      " |-- animal_id: integer (nullable = true)\n",
      " |-- group: integer (nullable = true)\n",
      " |-- sex: string (nullable = true)\n",
      " |-- building: string (nullable = true)\n",
      " |-- diet: string (nullable = true)\n",
      " |-- weight: double (nullable = true)\n",
      " |-- activity_score: double (nullable = true)\n",
      "\n"
     ]
    }
   ],
   "source": [
    "\n",
    "import pyspark\n",
    "from pyspark.sql import SparkSession\n",
    "from pyspark.sql.types import StructType,StructField, StringType, IntegerType \n",
    "from pyspark.sql.types import ArrayType, DoubleType, BooleanType\n",
    "from pyspark.sql.functions import col,array_contains\n",
    "from pyspark.sql import functions as f\n",
    "\n",
    "inputfile=\"activity.csv\"\n",
    "outputfile=\"activity-out.csv\"\n",
    "\n",
    "spark = SparkSession.builder.appName('readcsv').getOrCreate()\n",
    "\n",
    "df = spark.read.csv(inputfile)\n",
    "\n",
    "df.printSchema()\n",
    "\n",
    "df2 = spark.read.option(\"header\",True) \\\n",
    "     .csv(inputfile)\n",
    "df2.printSchema()\n",
    "   \n",
    "\n",
    " \n",
    "\n",
    "df3 = spark.read.options(header='True', delimiter=',') \\\n",
    "  .csv(inputfile)\n",
    "df3.printSchema()\n",
    " \n",
    "schema = StructType() \\\n",
    "      .add(\"animal_id\",IntegerType(),True) \\\n",
    "      .add(\"group\",IntegerType(),True) \\\n",
    "      .add(\"sex\",StringType(),True) \\\n",
    "      .add(\"building\",StringType(),True) \\\n",
    "      .add(\"diet\",StringType(),True) \\\n",
    "      .add(\"weight\",DoubleType(),True) \\\n",
    "      .add(\"activity_score\",DoubleType(),True)\n",
    "\n",
    "df4 = spark.read.format(\"csv\") \\\n",
    "      .option(\"header\", True) \\\n",
    "      .schema(schema) \\\n",
    "      .load(inputfile)\n",
    "df4.printSchema()\n",
    "\n",
    "\n",
    "\n"
   ]
  },
  {
   "cell_type": "code",
   "execution_count": 3,
   "id": "0fe16bfe",
   "metadata": {},
   "outputs": [
    {
     "name": "stdout",
     "output_type": "stream",
     "text": [
      "+-----+-------------------+\n",
      "| diet|sum(activity_score)|\n",
      "+-----+-------------------+\n",
      "|prot+|  5.600000000000001|\n",
      "|prot-|                3.4|\n",
      "+-----+-------------------+\n",
      "\n"
     ]
    }
   ],
   "source": [
    "df4.groupBy(\"diet\").sum(\"activity_score\").show()"
   ]
  },
  {
   "cell_type": "code",
   "execution_count": 4,
   "id": "25e0afde",
   "metadata": {
    "scrolled": true
   },
   "outputs": [
    {
     "name": "stdout",
     "output_type": "stream",
     "text": [
      "+---------+-----+---+--------+-----+------+--------------+\n",
      "|animal_id|group|sex|building| diet|weight|activity_score|\n",
      "+---------+-----+---+--------+-----+------+--------------+\n",
      "|        1|    1|  M|      12|prot+|  43.0|           0.2|\n",
      "|        2|    1|  F|      12|prot-|  31.0|           0.9|\n",
      "|        3|    1|  M|      13|prot+|  45.0|           0.4|\n",
      "|        4|    2|  M|      13|prot-|  30.0|           0.2|\n",
      "|        5|    2|  F|       2|prot+|  37.0|           0.5|\n",
      "|        6|    3|  M|       4|prot+|  33.0|           0.8|\n",
      "|        7|    3|  M|      11|prot-|  34.0|           0.2|\n",
      "|        8|    1|  F|      12|prot+|  39.0|           0.4|\n",
      "|        9|    2|  M|       4|prot-|  35.0|           0.3|\n",
      "|       10|    3|  F|       3|prot+|  41.0|           0.2|\n",
      "|       11|    1|  M|      13|prot+|  36.0|           0.6|\n",
      "|       12|    2|  F|       3|prot+|  34.0|           0.3|\n",
      "|       13|    3|  F|       4|prot-|  33.0|           0.7|\n",
      "|       14|    1|  M|      12|prot+|  35.0|           0.5|\n",
      "|       15|    2|  M|      13|prot+|  33.0|           0.4|\n",
      "|       16|    3|  F|      12|prot-|  32.0|           0.2|\n",
      "|       17|    1|  M|       2|prot+|  34.0|           0.5|\n",
      "|       18|    2|  F|       2|prot+|  37.0|           0.4|\n",
      "|       19|    1|  F|       4|prot-|  36.0|           0.4|\n",
      "|       20|    3|  M|       4|prot-|  37.0|           0.5|\n",
      "+---------+-----+---+--------+-----+------+--------------+\n",
      "only showing top 20 rows\n",
      "\n",
      "root\n",
      " |-- animal_id: integer (nullable = true)\n",
      " |-- group: integer (nullable = true)\n",
      " |-- sex: string (nullable = true)\n",
      " |-- building: string (nullable = true)\n",
      " |-- diet: string (nullable = true)\n",
      " |-- weight: double (nullable = true)\n",
      " |-- activity_score: double (nullable = true)\n",
      "\n",
      "+-----+----------+----------+----------+-----------------+\n",
      "|diet |sum_weight|max_weight|min_weight|mean_weight      |\n",
      "+-----+----------+----------+----------+-----------------+\n",
      "|prot+|495.0     |48.0      |33.0      |38.07692307692308|\n",
      "|prot-|268.0     |37.0      |30.0      |33.5             |\n",
      "+-----+----------+----------+----------+-----------------+\n",
      "\n"
     ]
    }
   ],
   "source": [
    "\n",
    "df4.show()\n",
    "df4.printSchema()\n",
    "\n",
    "\n",
    "dfGroup=df4.groupBy(\"diet\") \\\n",
    "          .agg(  f.sum(\"weight\").alias(\"sum_weight\"),\\\n",
    "                 f.max(\"weight\").alias(\"max_weight\") ,\\\n",
    "                 f.min(\"weight\").alias(\"min_weight\"),\\\n",
    "                 f.mean(\"weight\").alias(\"mean_weight\")\n",
    "              )\n",
    "          \n",
    "dfGroup.show(truncate=False)\n",
    "\n",
    " \n",
    " "
   ]
  },
  {
   "cell_type": "code",
   "execution_count": 7,
   "id": "0062da26",
   "metadata": {},
   "outputs": [
    {
     "name": "stdout",
     "output_type": "stream",
     "text": [
      "+---------+-----+---+--------+-----+------+--------------+\n",
      "|animal_id|group|sex|building| diet|weight|activity_score|\n",
      "+---------+-----+---+--------+-----+------+--------------+\n",
      "|        1|    1|  M|      12|prot+|  43.0|           0.2|\n",
      "|        3|    1|  M|      13|prot+|  45.0|           0.4|\n",
      "|       10|    3|  F|       3|prot+|  41.0|           0.2|\n",
      "|       21|    3|  F|       3|prot+|  48.0|           0.4|\n",
      "+---------+-----+---+--------+-----+------+--------------+\n",
      "\n"
     ]
    }
   ],
   "source": [
    "dfFilter=df4.filter(df4.weight >40)\n",
    "dfFilter.show()"
   ]
  },
  {
   "cell_type": "code",
   "execution_count": 19,
   "id": "927af39d",
   "metadata": {},
   "outputs": [
    {
     "name": "stdout",
     "output_type": "stream",
     "text": [
      "done\n"
     ]
    }
   ],
   "source": [
    "\n",
    "# write csv\n",
    "\n",
    "\n",
    "import os\n",
    "import shutil\n",
    "dir_path=\"activity-part\"\n",
    "\n",
    "try:\n",
    "     shutil.rmtree(dir_path)\n",
    "except OSError as e:\n",
    "    print(\"Error: %s : %s\" % (dir_path, e.strerror))\n",
    "    \n",
    "    \n",
    "dfFilter.write.option(\"header\",True) \\\n",
    " .csv(dir_path)\n",
    "\n",
    "try:\n",
    "     shutil.rmtree(outputfile)\n",
    "except OSError as e:\n",
    "    print(\"Error: %s : %s\" % (dir_path, e.strerror))\n",
    "    \n",
    "\n",
    "dfFilter.repartition(1).write.option(\"header\",True).csv(outputfile)\n",
    "print(\"done\") "
   ]
  },
  {
   "cell_type": "code",
   "execution_count": null,
   "id": "c155a4df",
   "metadata": {},
   "outputs": [],
   "source": []
  },
  {
   "cell_type": "code",
   "execution_count": null,
   "id": "c563fcf4",
   "metadata": {},
   "outputs": [],
   "source": []
  }
 ],
 "metadata": {
  "kernelspec": {
   "display_name": "Python 3",
   "language": "python",
   "name": "python3"
  },
  "language_info": {
   "codemirror_mode": {
    "name": "ipython",
    "version": 3
   },
   "file_extension": ".py",
   "mimetype": "text/x-python",
   "name": "python",
   "nbconvert_exporter": "python",
   "pygments_lexer": "ipython3",
   "version": "3.9.4"
  }
 },
 "nbformat": 4,
 "nbformat_minor": 5
}
