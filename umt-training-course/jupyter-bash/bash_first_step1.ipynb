{
 "cells": [
  {
   "cell_type": "markdown",
   "id": "3abeba8e",
   "metadata": {},
   "source": [
    "How to use Linux command line  with BASH. examples - find OS"
   ]
  },
  {
   "cell_type": "code",
   "execution_count": 1,
   "id": "8c377a9c",
   "metadata": {},
   "outputs": [
    {
     "name": "stdout",
     "output_type": "stream",
     "text": [
      "Linux version 4.4.0-83-generic (buildd@lgw01-29) (gcc version 5.4.0 20160609 (Ubuntu 5.4.0-6ubuntu1~16.04.4) ) #106-Ubuntu SMP Mon Jun 26 17:54:43 UTC 2017\n"
     ]
    }
   ],
   "source": [
    "cat /proc/version"
   ]
  },
  {
   "cell_type": "code",
   "execution_count": 2,
   "id": "025bbed8",
   "metadata": {},
   "outputs": [
    {
     "name": "stdout",
     "output_type": "stream",
     "text": [
      "Ubuntu 20.04.2 LTS \\n \\l\n",
      "\n"
     ]
    }
   ],
   "source": [
    "cat /etc/issue"
   ]
  },
  {
   "cell_type": "code",
   "execution_count": 3,
   "id": "69f7f89f",
   "metadata": {},
   "outputs": [
    {
     "name": "stdout",
     "output_type": "stream",
     "text": [
      "NAME=\"Ubuntu\"\n",
      "VERSION=\"20.04.2 LTS (Focal Fossa)\"\n",
      "ID=ubuntu\n",
      "ID_LIKE=debian\n",
      "PRETTY_NAME=\"Ubuntu 20.04.2 LTS\"\n",
      "VERSION_ID=\"20.04\"\n",
      "HOME_URL=\"https://www.ubuntu.com/\"\n",
      "SUPPORT_URL=\"https://help.ubuntu.com/\"\n",
      "BUG_REPORT_URL=\"https://bugs.launchpad.net/ubuntu/\"\n",
      "PRIVACY_POLICY_URL=\"https://www.ubuntu.com/legal/terms-and-policies/privacy-policy\"\n",
      "VERSION_CODENAME=focal\n",
      "UBUNTU_CODENAME=focal\n"
     ]
    }
   ],
   "source": [
    "cat /etc/os-release"
   ]
  },
  {
   "cell_type": "code",
   "execution_count": 4,
   "id": "0e033522",
   "metadata": {},
   "outputs": [
    {
     "name": "stdout",
     "output_type": "stream",
     "text": [
      "\n",
      " OS =[    0.000000] Linux version 4.4.0-83-generic (buildd@lgw01-29) (gcc version 5.4.0 20160609 (Ubuntu 5.4.0-6ubuntu1~16.04.4) ) #106-Ubuntu SMP Mon Jun 26 17:54:43 UTC 2017 (Ubuntu 4.4.0-83.106-generic 4.4.70)\n",
      "\n"
     ]
    }
   ],
   "source": [
    "dmesg | head -n 20 | perl -ne '  if ($_=~/Linux/){print \"\\n OS =$_\\n\"}else{}'"
   ]
  },
  {
   "cell_type": "code",
   "execution_count": 8,
   "id": "b315d13a",
   "metadata": {},
   "outputs": [
    {
     "name": "stdout",
     "output_type": "stream",
     "text": [
      "[1] 67\n"
     ]
    },
    {
     "ename": "",
     "evalue": "1",
     "output_type": "error",
     "traceback": []
    }
   ],
   "source": [
    "mkdir -p data1 & echo \"any-data\" > data1/file.txt"
   ]
  },
  {
   "cell_type": "code",
   "execution_count": 9,
   "id": "38399aec",
   "metadata": {},
   "outputs": [
    {
     "name": "stdout",
     "output_type": "stream",
     "text": [
      "[1] 68\n",
      "/home/jovyan/work\n",
      ".:\n",
      "total 20\n",
      "-rwxrwxrwx 1   1001  1001   40 Jun  7 13:23 \u001b[0m\u001b[01;32mbuild.sh\u001b[0m\n",
      "drwxr-xr-x 2 jovyan users 4096 Jun  7 14:17 \u001b[01;34mdata1\u001b[0m\n",
      "-rwxrwxrwx 1   1001  1001  287 Jun  7 13:54 \u001b[01;32mDockerfile\u001b[0m\n",
      "-rw-rw-r-- 1   1001  1001  169 Jun  7 14:12 README.md\n",
      "-rw-r--r-- 1 jovyan users 3610 Jun  7 14:17 Untitled.ipynb\n",
      "\n",
      "./data1:\n",
      "total 4\n",
      "-rw-r--r-- 1 jovyan users 9 Jun  7 14:17 file.txt\n",
      "[1]+  Done                    pwd\n"
     ]
    }
   ],
   "source": [
    "pwd & ls -lR "
   ]
  },
  {
   "cell_type": "code",
   "execution_count": 5,
   "id": "76edd5ff",
   "metadata": {},
   "outputs": [
    {
     "name": "stdout",
     "output_type": "stream",
     "text": [
      "3758ba12c896\n"
     ]
    }
   ],
   "source": [
    "echo $HOSTNAME"
   ]
  },
  {
   "cell_type": "code",
   "execution_count": null,
   "id": "a14dd80a",
   "metadata": {},
   "outputs": [],
   "source": [
    "sudo -i chmod -R 777 ./"
   ]
  },
  {
   "cell_type": "code",
   "execution_count": null,
   "id": "b029945c",
   "metadata": {},
   "outputs": [],
   "source": []
  }
 ],
 "metadata": {
  "kernelspec": {
   "display_name": "Bash",
   "language": "bash",
   "name": "bash"
  },
  "language_info": {
   "codemirror_mode": "shell",
   "file_extension": ".sh",
   "mimetype": "text/x-sh",
   "name": "bash"
  }
 },
 "nbformat": 4,
 "nbformat_minor": 5
}
