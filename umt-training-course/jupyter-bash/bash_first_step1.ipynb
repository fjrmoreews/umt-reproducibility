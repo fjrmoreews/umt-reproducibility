{
 "cells": [
  {
   "cell_type": "markdown",
   "id": "3abeba8e",
   "metadata": {},
   "source": [
    "How to use Linux command line  with BASH"
   ]
  },
  {
   "cell_type": "markdown",
   "id": "93ecefa6",
   "metadata": {},
   "source": [
    "Basic directories and File manipulation"
   ]
  },
  {
   "cell_type": "code",
   "execution_count": 1,
   "id": "6aa5bd7b",
   "metadata": {},
   "outputs": [
    {
     "name": "stdout",
     "output_type": "stream",
     "text": [
      "total 32\n",
      "-rwxrwxrwx 1 jovyan users 8463 Jun 21 13:07 \u001b[0m\u001b[01;32mbash_first_step1.ipynb\u001b[0m\n",
      "-rwxrwxrwx 1   1001  1001   40 Jun  7 13:23 \u001b[01;32mbuild.sh\u001b[0m\n",
      "drwxr-xr-x 2 jovyan users 4096 Jun 21 13:02 \u001b[01;34mdata1\u001b[0m\n",
      "-rwxrwxrwx 1   1001  1001  287 Jun  7 13:54 \u001b[01;32mDockerfile\u001b[0m\n",
      "-rw-rw-r-- 1   1001  1001  283 Jun 21 12:45 README.md\n",
      "drwxr-xr-x 2 jovyan users 4096 Jun 21 13:01 \u001b[01;34mtest\u001b[0m\n"
     ]
    }
   ],
   "source": [
    "ls -l "
   ]
  },
  {
   "cell_type": "code",
   "execution_count": 2,
   "id": "5b4e0f98",
   "metadata": {},
   "outputs": [
    {
     "name": "stdout",
     "output_type": "stream",
     "text": [
      "this is a test\n",
      "total 12K\n",
      "8.0K -rw-r--r-- 1 jovyan users 7.4K Jun 21 13:01 nohelp.txt\n",
      "4.0K -rw-r--r-- 1 jovyan users   15 Jun 21 13:08 test.txt\n",
      "help.txt  nohelp.txt\n"
     ]
    }
   ],
   "source": [
    "mkdir -p  test\n",
    "echo \"this is a test\" > test/test.txt\n",
    "cat test/test.txt\n",
    "\n",
    "cd test && ls -shl\n",
    "cd ..\n",
    "rm test/test.txt\n",
    "ls --help > test/help.txt\n",
    "ls test"
   ]
  },
  {
   "cell_type": "code",
   "execution_count": 3,
   "id": "d4e068ea",
   "metadata": {},
   "outputs": [
    {
     "name": "stdout",
     "output_type": "stream",
     "text": [
      "total 8.0K\n",
      "8.0K -rw-r--r-- 1 jovyan users 7.4K Jun 21 13:08 nohelp.txt\n"
     ]
    }
   ],
   "source": [
    "mv test/help.txt test/nohelp.txt\n",
    "ls -shl test"
   ]
  },
  {
   "cell_type": "code",
   "execution_count": 6,
   "id": "a2b10844",
   "metadata": {},
   "outputs": [
    {
     "name": "stdout",
     "output_type": "stream",
     "text": [
      "Sort entries alphabetic\u001b[01;31m\u001b[Kall\u001b[m\u001b[Ky if none of -cftuvSUX nor --sort is specified.\n",
      "  -a, --\u001b[01;31m\u001b[Kall\u001b[m\u001b[K                  do not ignore entries starting with .\n",
      "  -A, --almost-\u001b[01;31m\u001b[Kall\u001b[m\u001b[K           do not list implied . and ..\n",
      "  -s, --size                 print the \u001b[01;31m\u001b[Kall\u001b[m\u001b[Kocated size of each file, in blocks\n",
      "  -X                         sort alphabetic\u001b[01;31m\u001b[Kall\u001b[m\u001b[Ky by entry extension\n",
      "or available loc\u001b[01;31m\u001b[Kall\u001b[m\u001b[Ky via: info '(coreutils) ls invocation'\n"
     ]
    }
   ],
   "source": [
    "grep  \"all\" test/nohelp.txt"
   ]
  },
  {
   "cell_type": "code",
   "execution_count": 8,
   "id": "dff5586f",
   "metadata": {},
   "outputs": [
    {
     "name": "stdout",
     "output_type": "stream",
     "text": [
      "Usage: ls [OPTION]... [FILE]...\n",
      "List information about the FILEs (the current directory by default).\n"
     ]
    }
   ],
   "source": [
    "head -n 2 test/nohelp.txt"
   ]
  },
  {
   "cell_type": "code",
   "execution_count": 9,
   "id": "6d7c4638",
   "metadata": {},
   "outputs": [
    {
     "name": "stdout",
     "output_type": "stream",
     "text": [
      "Full documentation at: <https://www.gnu.org/software/coreutils/ls>\n",
      "or available locally via: info '(coreutils) ls invocation'\n"
     ]
    }
   ],
   "source": [
    "tail -n 2 test/nohelp.txt"
   ]
  },
  {
   "cell_type": "code",
   "execution_count": 11,
   "id": "1f01ba07",
   "metadata": {},
   "outputs": [
    {
     "name": "stdout",
     "output_type": "stream",
     "text": [
      "found  ./test/nohelp.txt \n"
     ]
    }
   ],
   "source": [
    " find ./ -name \"*.txt\" -type f -print0 | xargs -0 -I p1 bash -c \" echo \\\"found \\\" p1 \\\"\\\" ; \""
   ]
  },
  {
   "cell_type": "markdown",
   "id": "dfa0e1e2",
   "metadata": {},
   "source": [
    "Find OS"
   ]
  },
  {
   "cell_type": "code",
   "execution_count": 12,
   "id": "8c377a9c",
   "metadata": {},
   "outputs": [
    {
     "name": "stdout",
     "output_type": "stream",
     "text": [
      "Linux version 4.4.0-83-generic (buildd@lgw01-29) (gcc version 5.4.0 20160609 (Ubuntu 5.4.0-6ubuntu1~16.04.4) ) #106-Ubuntu SMP Mon Jun 26 17:54:43 UTC 2017\n"
     ]
    }
   ],
   "source": [
    "cat /proc/version"
   ]
  },
  {
   "cell_type": "code",
   "execution_count": 13,
   "id": "025bbed8",
   "metadata": {},
   "outputs": [
    {
     "name": "stdout",
     "output_type": "stream",
     "text": [
      "Ubuntu 20.04.2 LTS \\n \\l\n",
      "\n"
     ]
    }
   ],
   "source": [
    "cat /etc/issue"
   ]
  },
  {
   "cell_type": "code",
   "execution_count": 14,
   "id": "69f7f89f",
   "metadata": {},
   "outputs": [
    {
     "name": "stdout",
     "output_type": "stream",
     "text": [
      "NAME=\"Ubuntu\"\n",
      "VERSION=\"20.04.2 LTS (Focal Fossa)\"\n",
      "ID=ubuntu\n",
      "ID_LIKE=debian\n",
      "PRETTY_NAME=\"Ubuntu 20.04.2 LTS\"\n",
      "VERSION_ID=\"20.04\"\n",
      "HOME_URL=\"https://www.ubuntu.com/\"\n",
      "SUPPORT_URL=\"https://help.ubuntu.com/\"\n",
      "BUG_REPORT_URL=\"https://bugs.launchpad.net/ubuntu/\"\n",
      "PRIVACY_POLICY_URL=\"https://www.ubuntu.com/legal/terms-and-policies/privacy-policy\"\n",
      "VERSION_CODENAME=focal\n",
      "UBUNTU_CODENAME=focal\n"
     ]
    }
   ],
   "source": [
    "cat /etc/os-release"
   ]
  },
  {
   "cell_type": "code",
   "execution_count": 15,
   "id": "0e033522",
   "metadata": {},
   "outputs": [
    {
     "name": "stdout",
     "output_type": "stream",
     "text": [
      "\n",
      " OS =[    0.000000] Linux version 4.4.0-83-generic (buildd@lgw01-29) (gcc version 5.4.0 20160609 (Ubuntu 5.4.0-6ubuntu1~16.04.4) ) #106-Ubuntu SMP Mon Jun 26 17:54:43 UTC 2017 (Ubuntu 4.4.0-83.106-generic 4.4.70)\n",
      "\n"
     ]
    }
   ],
   "source": [
    "dmesg | head -n 20 | perl -ne '  if ($_=~/Linux/){print \"\\n OS =$_\\n\"}else{}'"
   ]
  },
  {
   "cell_type": "code",
   "execution_count": 16,
   "id": "b315d13a",
   "metadata": {},
   "outputs": [],
   "source": [
    "mkdir -p data1 \n",
    "echo \"any-data\" > data1/file.txt"
   ]
  },
  {
   "cell_type": "code",
   "execution_count": 17,
   "id": "38399aec",
   "metadata": {},
   "outputs": [
    {
     "name": "stdout",
     "output_type": "stream",
     "text": [
      "[1] 271\n",
      "/home/jovyan/work\n",
      ".:\n",
      "total 32\n",
      "-rwxrwxrwx 1 jovyan users 8408 Jun 21 13:08 \u001b[0m\u001b[01;32mbash_first_step1.ipynb\u001b[0m\n",
      "-rwxrwxrwx 1   1001  1001   40 Jun  7 13:23 \u001b[01;32mbuild.sh\u001b[0m\n",
      "drwxr-xr-x 2 jovyan users 4096 Jun 21 13:09 \u001b[01;34mdata1\u001b[0m\n",
      "-rwxrwxrwx 1   1001  1001  287 Jun  7 13:54 \u001b[01;32mDockerfile\u001b[0m\n",
      "-rw-rw-r-- 1   1001  1001  283 Jun 21 12:45 README.md\n",
      "drwxr-xr-x 2 jovyan users 4096 Jun 21 13:08 \u001b[01;34mtest\u001b[0m\n",
      "\n",
      "./data1:\n",
      "total 4\n",
      "-rw-r--r-- 1 jovyan users 9 Jun 21 13:09 file.txt\n",
      "\n",
      "./test:\n",
      "total 8\n",
      "-rw-r--r-- 1 jovyan users 7575 Jun 21 13:08 nohelp.txt\n",
      "[1]+  Done                    pwd\n"
     ]
    }
   ],
   "source": [
    "pwd & ls -lR "
   ]
  },
  {
   "cell_type": "code",
   "execution_count": 18,
   "id": "76edd5ff",
   "metadata": {},
   "outputs": [
    {
     "name": "stdout",
     "output_type": "stream",
     "text": [
      "af4a7a69424b\n"
     ]
    }
   ],
   "source": [
    "echo $HOSTNAME"
   ]
  },
  {
   "cell_type": "code",
   "execution_count": 19,
   "id": "b029945c",
   "metadata": {},
   "outputs": [
    {
     "name": "stdout",
     "output_type": "stream",
     "text": [
      " well done ! I LOVE DOCKER  AND  JUPYTER \n"
     ]
    }
   ],
   "source": [
    "DOCKER=\"I LOVE DOCKER\"\n",
    "JUPYTER=\"AND  JUPYTER \"\n",
    "echo \" well done ! $DOCKER  $JUPYTER\""
   ]
  },
  {
   "cell_type": "code",
   "execution_count": null,
   "id": "00f1179a",
   "metadata": {},
   "outputs": [],
   "source": []
  }
 ],
 "metadata": {
  "kernelspec": {
   "display_name": "Bash",
   "language": "bash",
   "name": "bash"
  },
  "language_info": {
   "codemirror_mode": "shell",
   "file_extension": ".sh",
   "mimetype": "text/x-sh",
   "name": "bash"
  }
 },
 "nbformat": 4,
 "nbformat_minor": 5
}
