{
 "cells": [
  {
   "cell_type": "code",
   "execution_count": 1,
   "id": "broadband-response",
   "metadata": {},
   "outputs": [],
   "source": [
    "import os\n",
    "import pandas as pd\n",
    "import matplotlib.pyplot as plt\n",
    "import seaborn as sns"
   ]
  },
  {
   "cell_type": "markdown",
   "id": "guilty-hydrogen",
   "metadata": {},
   "source": [
    "# Importer le fichier CSV"
   ]
  },
  {
   "cell_type": "code",
   "execution_count": 2,
   "id": "aerial-question",
   "metadata": {},
   "outputs": [
    {
     "name": "stdout",
     "output_type": "stream",
     "text": [
      "C:\\Users\\utilisateur\\Desktop\\Formation UMT\n"
     ]
    }
   ],
   "source": [
    "# Récupérer le chemin\n",
    "path = os.getcwd()\n",
    "print(path)"
   ]
  },
  {
   "cell_type": "code",
   "execution_count": 3,
   "id": "stuffed-probe",
   "metadata": {},
   "outputs": [
    {
     "name": "stdout",
     "output_type": "stream",
     "text": [
      "['.ipynb_checkpoints', '04_06_2021_test1_docker.txt', 'accelero_data.csv', 'accelero_full_data.csv', 'Compte-Rendus', 'notebook_accelero_umt.ipynb', 'pig-ds1.csv', 'Python-first-step1.ipynb']\n"
     ]
    }
   ],
   "source": [
    "# Liste des fichiers au sein du \"directory\" actuel\n",
    "print(os.listdir())"
   ]
  },
  {
   "cell_type": "code",
   "execution_count": 4,
   "id": "preceding-disney",
   "metadata": {},
   "outputs": [
    {
     "name": "stdout",
     "output_type": "stream",
     "text": [
      "['accelero_data.csv', 'accelero_full_data.csv', 'pig-ds1.csv']\n"
     ]
    }
   ],
   "source": [
    "# Parmi ces fichiers, on récupère la liste des csv\n",
    "csv_files = [file for file in os.listdir() if file.endswith('csv')]\n",
    "print(csv_files)"
   ]
  },
  {
   "cell_type": "markdown",
   "id": "union-drain",
   "metadata": {},
   "source": [
    "# Lire le fichier CSV sous forme de DataFrame (df)"
   ]
  },
  {
   "cell_type": "code",
   "execution_count": 5,
   "id": "quiet-sponsorship",
   "metadata": {},
   "outputs": [],
   "source": [
    "# On décide d'ouvrir le premier fichier (d'où le [0] qui récupère le premier élément de la liste)\n",
    "df = pd.read_csv(csv_files[2], sep=' ', names=['colorimetry.score', 'enz.activity', 'fat.indice', 'm.quality', 'species'])"
   ]
  },
  {
   "cell_type": "code",
   "execution_count": 6,
   "id": "aquatic-teddy",
   "metadata": {},
   "outputs": [
    {
     "data": {
      "text/html": [
       "<div>\n",
       "<style scoped>\n",
       "    .dataframe tbody tr th:only-of-type {\n",
       "        vertical-align: middle;\n",
       "    }\n",
       "\n",
       "    .dataframe tbody tr th {\n",
       "        vertical-align: top;\n",
       "    }\n",
       "\n",
       "    .dataframe thead th {\n",
       "        text-align: right;\n",
       "    }\n",
       "</style>\n",
       "<table border=\"1\" class=\"dataframe\">\n",
       "  <thead>\n",
       "    <tr style=\"text-align: right;\">\n",
       "      <th></th>\n",
       "      <th>colorimetry.score</th>\n",
       "      <th>enz.activity</th>\n",
       "      <th>fat.indice</th>\n",
       "      <th>m.quality</th>\n",
       "      <th>species</th>\n",
       "    </tr>\n",
       "  </thead>\n",
       "  <tbody>\n",
       "    <tr>\n",
       "      <th>0</th>\n",
       "      <td>5.1</td>\n",
       "      <td>3.5</td>\n",
       "      <td>1.4</td>\n",
       "      <td>0.2</td>\n",
       "      <td>basque</td>\n",
       "    </tr>\n",
       "    <tr>\n",
       "      <th>1</th>\n",
       "      <td>4.9</td>\n",
       "      <td>3.0</td>\n",
       "      <td>1.4</td>\n",
       "      <td>0.2</td>\n",
       "      <td>basque</td>\n",
       "    </tr>\n",
       "    <tr>\n",
       "      <th>2</th>\n",
       "      <td>4.7</td>\n",
       "      <td>3.2</td>\n",
       "      <td>1.3</td>\n",
       "      <td>0.2</td>\n",
       "      <td>basque</td>\n",
       "    </tr>\n",
       "    <tr>\n",
       "      <th>3</th>\n",
       "      <td>4.6</td>\n",
       "      <td>3.1</td>\n",
       "      <td>1.5</td>\n",
       "      <td>0.2</td>\n",
       "      <td>basque</td>\n",
       "    </tr>\n",
       "    <tr>\n",
       "      <th>4</th>\n",
       "      <td>5.0</td>\n",
       "      <td>3.6</td>\n",
       "      <td>1.4</td>\n",
       "      <td>0.2</td>\n",
       "      <td>basque</td>\n",
       "    </tr>\n",
       "  </tbody>\n",
       "</table>\n",
       "</div>"
      ],
      "text/plain": [
       "   colorimetry.score  enz.activity  fat.indice  m.quality species\n",
       "0                5.1           3.5         1.4        0.2  basque\n",
       "1                4.9           3.0         1.4        0.2  basque\n",
       "2                4.7           3.2         1.3        0.2  basque\n",
       "3                4.6           3.1         1.5        0.2  basque\n",
       "4                5.0           3.6         1.4        0.2  basque"
      ]
     },
     "execution_count": 6,
     "metadata": {},
     "output_type": "execute_result"
    }
   ],
   "source": [
    "# Observer les 5 premières lignes\n",
    "df.head()"
   ]
  },
  {
   "cell_type": "code",
   "execution_count": 7,
   "id": "necessary-playing",
   "metadata": {},
   "outputs": [
    {
     "data": {
      "text/html": [
       "<div>\n",
       "<style scoped>\n",
       "    .dataframe tbody tr th:only-of-type {\n",
       "        vertical-align: middle;\n",
       "    }\n",
       "\n",
       "    .dataframe tbody tr th {\n",
       "        vertical-align: top;\n",
       "    }\n",
       "\n",
       "    .dataframe thead th {\n",
       "        text-align: right;\n",
       "    }\n",
       "</style>\n",
       "<table border=\"1\" class=\"dataframe\">\n",
       "  <thead>\n",
       "    <tr style=\"text-align: right;\">\n",
       "      <th></th>\n",
       "      <th>colorimetry.score</th>\n",
       "      <th>enz.activity</th>\n",
       "      <th>fat.indice</th>\n",
       "      <th>m.quality</th>\n",
       "    </tr>\n",
       "  </thead>\n",
       "  <tbody>\n",
       "    <tr>\n",
       "      <th>count</th>\n",
       "      <td>151.000000</td>\n",
       "      <td>151.00000</td>\n",
       "      <td>151.000000</td>\n",
       "      <td>151.000000</td>\n",
       "    </tr>\n",
       "    <tr>\n",
       "      <th>mean</th>\n",
       "      <td>5.846358</td>\n",
       "      <td>3.05894</td>\n",
       "      <td>3.768874</td>\n",
       "      <td>1.205960</td>\n",
       "    </tr>\n",
       "    <tr>\n",
       "      <th>std</th>\n",
       "      <td>0.826138</td>\n",
       "      <td>0.43486</td>\n",
       "      <td>1.764471</td>\n",
       "      <td>0.764045</td>\n",
       "    </tr>\n",
       "    <tr>\n",
       "      <th>min</th>\n",
       "      <td>4.300000</td>\n",
       "      <td>2.00000</td>\n",
       "      <td>1.000000</td>\n",
       "      <td>0.100000</td>\n",
       "    </tr>\n",
       "    <tr>\n",
       "      <th>25%</th>\n",
       "      <td>5.100000</td>\n",
       "      <td>2.80000</td>\n",
       "      <td>1.600000</td>\n",
       "      <td>0.300000</td>\n",
       "    </tr>\n",
       "    <tr>\n",
       "      <th>50%</th>\n",
       "      <td>5.800000</td>\n",
       "      <td>3.00000</td>\n",
       "      <td>4.400000</td>\n",
       "      <td>1.300000</td>\n",
       "    </tr>\n",
       "    <tr>\n",
       "      <th>75%</th>\n",
       "      <td>6.400000</td>\n",
       "      <td>3.30000</td>\n",
       "      <td>5.100000</td>\n",
       "      <td>1.800000</td>\n",
       "    </tr>\n",
       "    <tr>\n",
       "      <th>max</th>\n",
       "      <td>7.900000</td>\n",
       "      <td>4.40000</td>\n",
       "      <td>6.900000</td>\n",
       "      <td>2.500000</td>\n",
       "    </tr>\n",
       "  </tbody>\n",
       "</table>\n",
       "</div>"
      ],
      "text/plain": [
       "       colorimetry.score  enz.activity  fat.indice   m.quality\n",
       "count         151.000000     151.00000  151.000000  151.000000\n",
       "mean            5.846358       3.05894    3.768874    1.205960\n",
       "std             0.826138       0.43486    1.764471    0.764045\n",
       "min             4.300000       2.00000    1.000000    0.100000\n",
       "25%             5.100000       2.80000    1.600000    0.300000\n",
       "50%             5.800000       3.00000    4.400000    1.300000\n",
       "75%             6.400000       3.30000    5.100000    1.800000\n",
       "max             7.900000       4.40000    6.900000    2.500000"
      ]
     },
     "execution_count": 7,
     "metadata": {},
     "output_type": "execute_result"
    }
   ],
   "source": [
    "# Caractéristiques du jeu de données\n",
    "df.describe()"
   ]
  },
  {
   "cell_type": "code",
   "execution_count": 8,
   "id": "copyrighted-circus",
   "metadata": {},
   "outputs": [
    {
     "data": {
      "image/png": "[encoded data removed]",
      "text/plain": [
       "<Figure size 864x576 with 1 Axes>"
      ]
     },
     "metadata": {},
     "output_type": "display_data"
    }
   ],
   "source": [
    "sns.set_theme()\n",
    "plt.figure(figsize=(12, 8))\n",
    "plt.title('pig scatter plot')\n",
    "sns.scatterplot(x='fat.indice', y='m.quality', data=df, hue='species', s=100)\n",
    "plt.legend(bbox_to_anchor=(1.05, 0.95), loc=2)\n",
    "plt.show()"
   ]
  },
  {
   "cell_type": "code",
   "execution_count": null,
   "id": "preceding-slave",
   "metadata": {},
   "outputs": [],
   "source": []
  }
 ],
 "metadata": {
  "kernelspec": {
   "display_name": "Python 3",
   "language": "python",
   "name": "python3"
  },
  "language_info": {
   "codemirror_mode": {
    "name": "ipython",
    "version": 3
   },
   "file_extension": ".py",
   "mimetype": "text/x-python",
   "name": "python",
   "nbconvert_exporter": "python",
   "pygments_lexer": "ipython3",
   "version": "3.8.6"
  }
 },
 "nbformat": 4,
 "nbformat_minor": 5
}
